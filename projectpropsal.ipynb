{
 "cells": [
  {
   "cell_type": "markdown",
   "id": "1efd55c3",
   "metadata": {
    "tags": []
   },
   "source": [
    "# Project Report\n",
    "\n",
    "### Title: Given these 13 factors, does the patient have heart disease?\n",
    "\n",
    "1. `Age` **Age (years)** \n",
    "\n",
    "2. `Sex` **Sex**: 0 = female; 1 = male\n",
    "\n",
    "3. `Chest_Pain_Type` **Chest pain type**: 1 = typical angina; 2 = atypical angina; 3 = non-anginal pain; 4: = asymptomatic\n",
    "    - Angina is the medical term for chest pain caused by disruption of blood flow and oxygen to the heart\n",
    "    - Typical angina refers to classical symptoms of chest pain including pressure, heaviness, tightness in chest\n",
    "    - Atypical angina refers to chest pain that does not meet criteria for typical angina, where pain can be more localized and symptoms are less predictable than typical angina\n",
    "    - Non-anginal pain refers to chest pain that is not caused by reduced blood flow to the heart \n",
    "    - Asymptomatic chest pain occurs when the heart does not receive enough blood however there are no physical symptoms \n",
    "\\\n",
    "&nbsp;\n",
    "4. `Resting_Blood_Pressure` **Resting blood pressure (mmHg)**\n",
    "    - Resting blood pressure of patients is measured in millimeters of mercury (mmHg)\n",
    "\\\n",
    "&nbsp;\n",
    "5. `Cholesterol` **Cholesterol (mg/dL)**\n",
    "    - Cholesterol of patient measured in milligram per decilitre (mg/dL)\n",
    "\\\n",
    "&nbsp;\n",
    "6. `Fasting_Blood_Sugar` **Fasting blood sugar (> 120 mg/dL)**: 0 = false; 1 = true\n",
    "    - False if fasting blood sugar is below or equal to 120 mg/dL\n",
    "    - True if patients fasting blood sugar is above 120 mg/dL\n",
    "    - Fasting blood sugar refers to the level of glucose in the blood after the patient has not eaten anything for a period of time\n",
    "\\\n",
    "&nbsp;\n",
    "7. `Resting_ECG` **Resting electrocardiographic measurement (ECG)**: 0 = normal resting ECG; 1 = abnormal resting ECG; 2 = possible left ventricular hypertrophy\n",
    "    - Resting ECG test measures your resting heart’s rhythm and electrical signals each time it beats \n",
    "    - Normal resting ECG is the normal electrical activity or pattern of the heart that shows no significant abnormalities\n",
    "    - Abnormal resting ECG will represent ST-T abnormality on ECG. This occurs when there are abnormalities in your normal ST-T waves that help your heart beat properly.\n",
    "        - ST-T waves represents the period when your heart ventricles are preparing to contract again for the next heartbeat\n",
    "    - Possible left ventricular hypertrophy (LVH) is based on Estes’ criteria, which is a set of guidelines used to interpret ECG results. LVH is a condition where the left walls of the heart become thickened and enlarged.\n",
    "\\\n",
    "&nbsp;\n",
    "8. `Max_Heart_Rate` **Maximum heart rate (bpm)**\n",
    "    - Measured in beats per minute (bpm)\n",
    "\\\n",
    "&nbsp;\n",
    "9. `Exercise_Induced_Angina` **Exercise induced angina**: 0 = no; 1 = yes\n",
    "    - Exercise induced angina is chest pain that occurs during physical exertion or stress \n",
    "\\\n",
    "&nbsp;\n",
    "10. `ST_Depression` **ST depression induced by exercise relative to rest**\n",
    "    - ST depression is a pattern seen on ECG that indicates decreased blood flow to heart muscle \n",
    "\\\n",
    "&nbsp;\n",
    "11. `Slope` **Slope of the peak exercise ST segment**: 1 = upsloping; 2 = flat; 3 = downsloping\n",
    "    - Slope of the peak exercise ST segment refers to the change in the ST segment collected from the ECG during exercise \n",
    "    - Slope is evaluated from rest and then the change in ST segment when the patient is exercising at maximum capacity is recorded\n",
    "\\\n",
    "&nbsp;\n",
    "12. `Number_of_Major_Vessels` **Number of major vessels**\n",
    "    - Major blood vessels carry blood to and from heart \n",
    "    - Ranges from 0-3, colored by fluoroscopy to determine number of major vessels\n",
    "\\\n",
    "&nbsp;\n",
    "13. `Thal` **Thalassemia**: 3 = normal; 6 = fixed defect; 7 = reversible defect\n",
    "    - Thalassemia is a genetic blood disorder that results in reduced hemoglobin in red blood cells. This causes red blood cells to carry less oxygen to the heart and throughout the body\n",
    "    - Fixed defect refers to no blood flow in an area of heart muscle\n",
    "    - Reversible defect refers to reduced blood flow in an area of heart muscle\n",
    "\\\n",
    "&nbsp;\n",
    "14. `Heart_Disease_Diagnosis` **Heart disease diagnosis**: 0 = < 50% diameter narrowing (Healthy) ; 1 = > 50% diameter narrowing (*Heart Disease*)\n",
    "    - Heart disease diagnosis is based on angiographic disease status that uses an angiogram to visualize blood vessels in the heart\n",
    "    - Angiographic disease status measures the degree of narrowing in coronary arteries, where a diameter narrowing of less than 50% is considered mild or insignificant, and higher is considered significant and may require treatment.\n",
    "    \n",
    "\n",
    "## Introduction\n",
    "\n",
    "Heart disease encompasses a group of conditions that can impair the structure or function of the heart. There are risk factors that increase heart disease that cannot be controlled such as sex, age, and genetics. The Heart Disease dataset from the UCI Machine Learning Repository examines the relationship between  13 factors and their effect on heart disease. The objective of our project is to examine some of these potential factors to identify patterns and make predictions that answer our research question: Given these 13 factors, does the patient have heart disease? \n",
    "\n",
    "## Methods and Results\n",
    "\n",
    "### Preliminary exploratory data analysis:"
   ]
  },
  {
   "cell_type": "code",
   "execution_count": 2,
   "id": "2c8afc9f",
   "metadata": {},
   "outputs": [
    {
     "name": "stderr",
     "output_type": "stream",
     "text": [
      "── \u001b[1mAttaching packages\u001b[22m ─────────────────────────────────────── tidyverse 1.3.1 ──\n",
      "\n",
      "\u001b[32m✔\u001b[39m \u001b[34mggplot2\u001b[39m 3.3.6     \u001b[32m✔\u001b[39m \u001b[34mpurrr  \u001b[39m 0.3.4\n",
      "\u001b[32m✔\u001b[39m \u001b[34mtibble \u001b[39m 3.1.8     \u001b[32m✔\u001b[39m \u001b[34mdplyr  \u001b[39m 1.0.9\n",
      "\u001b[32m✔\u001b[39m \u001b[34mtidyr  \u001b[39m 1.2.0     \u001b[32m✔\u001b[39m \u001b[34mstringr\u001b[39m 1.4.0\n",
      "\u001b[32m✔\u001b[39m \u001b[34mreadr  \u001b[39m 2.1.2     \u001b[32m✔\u001b[39m \u001b[34mforcats\u001b[39m 0.5.1\n",
      "\n",
      "Warning message:\n",
      "“package ‘ggplot2’ was built under R version 4.1.3”\n",
      "Warning message:\n",
      "“package ‘tidyr’ was built under R version 4.1.2”\n",
      "Warning message:\n",
      "“package ‘readr’ was built under R version 4.1.2”\n",
      "Warning message:\n",
      "“package ‘dplyr’ was built under R version 4.1.3”\n",
      "── \u001b[1mConflicts\u001b[22m ────────────────────────────────────────── tidyverse_conflicts() ──\n",
      "\u001b[31m✖\u001b[39m \u001b[34mdplyr\u001b[39m::\u001b[32mfilter()\u001b[39m masks \u001b[34mstats\u001b[39m::filter()\n",
      "\u001b[31m✖\u001b[39m \u001b[34mdplyr\u001b[39m::\u001b[32mlag()\u001b[39m    masks \u001b[34mstats\u001b[39m::lag()\n",
      "\n",
      "Warning message:\n",
      "“package ‘tidymodels’ was built under R version 4.1.3”\n",
      "── \u001b[1mAttaching packages\u001b[22m ────────────────────────────────────── tidymodels 1.0.0 ──\n",
      "\n",
      "\u001b[32m✔\u001b[39m \u001b[34mbroom       \u001b[39m 1.0.0     \u001b[32m✔\u001b[39m \u001b[34mrsample     \u001b[39m 1.0.0\n",
      "\u001b[32m✔\u001b[39m \u001b[34mdials       \u001b[39m 1.0.0     \u001b[32m✔\u001b[39m \u001b[34mtune        \u001b[39m 1.0.0\n",
      "\u001b[32m✔\u001b[39m \u001b[34minfer       \u001b[39m 1.0.2     \u001b[32m✔\u001b[39m \u001b[34mworkflows   \u001b[39m 1.0.0\n",
      "\u001b[32m✔\u001b[39m \u001b[34mmodeldata   \u001b[39m 1.0.0     \u001b[32m✔\u001b[39m \u001b[34mworkflowsets\u001b[39m 1.0.0\n",
      "\u001b[32m✔\u001b[39m \u001b[34mparsnip     \u001b[39m 1.0.0     \u001b[32m✔\u001b[39m \u001b[34myardstick   \u001b[39m 1.0.0\n",
      "\u001b[32m✔\u001b[39m \u001b[34mrecipes     \u001b[39m 1.0.1     \n",
      "\n",
      "Warning message:\n",
      "“package ‘broom’ was built under R version 4.1.3”\n",
      "Warning message:\n",
      "“package ‘dials’ was built under R version 4.1.3”\n",
      "Warning message:\n",
      "“package ‘scales’ was built under R version 4.1.3”\n",
      "Warning message:\n",
      "“package ‘infer’ was built under R version 4.1.3”\n",
      "Warning message:\n",
      "“package ‘modeldata’ was built under R version 4.1.3”\n",
      "Warning message:\n",
      "“package ‘parsnip’ was built under R version 4.1.3”\n",
      "Warning message:\n",
      "“package ‘recipes’ was built under R version 4.1.3”\n",
      "Warning message:\n",
      "“package ‘rsample’ was built under R version 4.1.3”\n",
      "Warning message:\n",
      "“package ‘tune’ was built under R version 4.1.3”\n",
      "Warning message:\n",
      "“package ‘workflows’ was built under R version 4.1.3”\n",
      "Warning message:\n",
      "“package ‘workflowsets’ was built under R version 4.1.3”\n",
      "Warning message:\n",
      "“package ‘yardstick’ was built under R version 4.1.3”\n",
      "── \u001b[1mConflicts\u001b[22m ───────────────────────────────────────── tidymodels_conflicts() ──\n",
      "\u001b[31m✖\u001b[39m \u001b[34mscales\u001b[39m::\u001b[32mdiscard()\u001b[39m masks \u001b[34mpurrr\u001b[39m::discard()\n",
      "\u001b[31m✖\u001b[39m \u001b[34mdplyr\u001b[39m::\u001b[32mfilter()\u001b[39m   masks \u001b[34mstats\u001b[39m::filter()\n",
      "\u001b[31m✖\u001b[39m \u001b[34mrecipes\u001b[39m::\u001b[32mfixed()\u001b[39m  masks \u001b[34mstringr\u001b[39m::fixed()\n",
      "\u001b[31m✖\u001b[39m \u001b[34mdplyr\u001b[39m::\u001b[32mlag()\u001b[39m      masks \u001b[34mstats\u001b[39m::lag()\n",
      "\u001b[31m✖\u001b[39m \u001b[34myardstick\u001b[39m::\u001b[32mspec()\u001b[39m masks \u001b[34mreadr\u001b[39m::spec()\n",
      "\u001b[31m✖\u001b[39m \u001b[34mrecipes\u001b[39m::\u001b[32mstep()\u001b[39m   masks \u001b[34mstats\u001b[39m::step()\n",
      "\u001b[34m•\u001b[39m Use \u001b[32mtidymodels_prefer()\u001b[39m to resolve common conflicts.\n",
      "\n",
      "Warning message:\n",
      "“package ‘RColorBrewer’ was built under R version 4.1.3”\n"
     ]
    },
    {
     "ename": "ERROR",
     "evalue": "Error in library(cowplot): there is no package called ‘cowplot’\n",
     "output_type": "error",
     "traceback": [
      "Error in library(cowplot): there is no package called ‘cowplot’\nTraceback:\n",
      "1. library(cowplot)"
     ]
    }
   ],
   "source": [
    "library(tidyverse)\n",
    "library(repr)\n",
    "library(tidymodels)\n",
    "options(repr.matrix.max.rows = 15)\n",
    "library(RColorBrewer)\n",
    "library(cowplot)\n",
    "set.seed(1)"
   ]
  },
  {
   "cell_type": "code",
   "execution_count": null,
   "id": "c5e72dc5",
   "metadata": {},
   "outputs": [],
   "source": [
    "cleveland <- read_csv(\"https://archive.ics.uci.edu/ml/machine-learning-databases/heart-disease/processed.cleveland.data\", col_names = FALSE)\n",
    "colnames(cleveland) = c(\"Age\", \"Sex\", \"Chest_Pain_Type\", \"Resting_Blood_Pressure\", \"Cholesterol\", \"Fasting_Blood_Sugar\",\n",
    "                        \"Resting_ECG\", \"Max_Heart_Rate\", \"Exercise_Induced_Angina\", \"ST_Depression\", \"Slope\",\n",
    "                         \"Number_of_Major_Vessels\", \"Thal\", \"Heart_Disease_Diagnosis\")\n",
    "cleveland <- cleveland |>\n",
    "    mutate(Number_of_Major_Vessels = as.numeric(Number_of_Major_Vessels)) |>\n",
    "    mutate(Thal = as.numeric(Thal))       \n",
    "\n",
    "calc_mode <- function(x){\n",
    "  \n",
    "  # List the distinct / unique values\n",
    "  distinct_values <- unique(x)\n",
    "  \n",
    "  # Count the occurrence of each distinct value\n",
    "  distinct_tabulate <- tabulate(match(x, distinct_values))\n",
    "  \n",
    "  # Return the value with the highest occurrence\n",
    "  distinct_values[which.max(distinct_tabulate)]\n",
    "}\n",
    "\n",
    "cleveland <- cleveland |>\n",
    "  mutate(across(everything(), ~replace_na(.x, calc_mode(.x))))"
   ]
  },
  {
   "cell_type": "markdown",
   "id": "87707c7e-946f-44a1-a11d-7809546cdefb",
   "metadata": {},
   "source": [
    "### Exploring the entire dataset"
   ]
  },
  {
   "cell_type": "code",
   "execution_count": null,
   "id": "14884d79",
   "metadata": {},
   "outputs": [],
   "source": [
    "cleveland <- cleveland  |>\n",
    "    mutate(\n",
    "        Heart_Disease_Diagnosis = case_when(\n",
    "                Heart_Disease_Diagnosis != 0 ~ 1,\n",
    "                Heart_Disease_Diagnosis == 0 ~ 0\n",
    "            )\n",
    "        )\n",
    "cleveland <- cleveland  |>\n",
    "    mutate(\n",
    "        Heart_Disease_Diagnosis = as.factor(Heart_Disease_Diagnosis)\n",
    "        )    \n",
    "head(cleveland)"
   ]
  },
  {
   "cell_type": "markdown",
   "id": "4fc0bf53-6f70-4e6b-8fa7-b0ff861ff5ff",
   "metadata": {},
   "source": [
    "**Table 1.** First 6 observations of Cleveland dataset"
   ]
  },
  {
   "cell_type": "code",
   "execution_count": null,
   "id": "df068b15-8218-45e9-8152-d04ae1afbb71",
   "metadata": {},
   "outputs": [],
   "source": [
    "tail(cleveland)"
   ]
  },
  {
   "cell_type": "markdown",
   "id": "bd525083-08f7-41a4-aba8-e2fb8c2b34ef",
   "metadata": {},
   "source": [
    "**Table 2.** Last 6 observations of Cleveland dataset"
   ]
  },
  {
   "cell_type": "markdown",
   "id": "77e13ed7-ad1b-4c68-8ee7-2bb060434156",
   "metadata": {},
   "source": [
    "### Splitting the data into training and testing sets"
   ]
  },
  {
   "cell_type": "code",
   "execution_count": null,
   "id": "86117804",
   "metadata": {},
   "outputs": [],
   "source": [
    "set.seed(1)\n",
    "data_split <- initial_split(cleveland, prop = 0.75, strata = Heart_Disease_Diagnosis)\n",
    "training_data <- training(data_split)\n",
    "testing_data <- testing(data_split)\n",
    "head(training_data)"
   ]
  },
  {
   "cell_type": "markdown",
   "id": "599017c9-f8eb-4961-8bc9-2ca93adb3a17",
   "metadata": {},
   "source": [
    "**Table 3.** First 6 observations of training data."
   ]
  },
  {
   "cell_type": "code",
   "execution_count": null,
   "id": "57da2310-5c35-4a5e-bf5f-0b1b2170f8b4",
   "metadata": {},
   "outputs": [],
   "source": [
    "tail(training_data)"
   ]
  },
  {
   "cell_type": "markdown",
   "id": "71ef0a19-9d98-4fd3-a0bd-0139a5484621",
   "metadata": {},
   "source": [
    "**Table 4.** Last 6 observations of training data."
   ]
  },
  {
   "cell_type": "markdown",
   "id": "ffdae3fc-6005-46b0-a29c-027ce73e5bbd",
   "metadata": {},
   "source": [
    "## Summary Tables"
   ]
  },
  {
   "cell_type": "markdown",
   "id": "e246be03-4434-4d03-b3e9-6b9db99ae79b",
   "metadata": {},
   "source": [
    "#### Mean Table For Numerical Variables"
   ]
  },
  {
   "cell_type": "code",
   "execution_count": null,
   "id": "09794084",
   "metadata": {},
   "outputs": [],
   "source": [
    "##MEAN TABLE FOR NUMERICAL VARIABLES##\n",
    "\n",
    "mean_table1 <- training_data |>\n",
    "    filter(Heart_Disease_Diagnosis == 1) |>\n",
    "    select(Age, Resting_Blood_Pressure, Cholesterol, Max_Heart_Rate, ST_Depression) |>\n",
    "    colMeans(na.rm = TRUE) \n",
    "\n",
    "mean_table1.matrix = matrix(data = mean_table1, nrow = 1, byrow = TRUE)\n",
    "mean_table1.df = as.data.frame(mean_table1.matrix)\n",
    "colnames(mean_table1.df) = c(\"Age\", \"Resting_Blood_Pressure\", \"Cholesterol\", \"Max_Heart_Rate\", \"ST_Depression\")\n",
    "\n",
    "mean_table1 = mean_table1.df \n",
    "\n",
    "mean_table1 <- mean_table1 |>\n",
    "    pivot_longer(cols = Age:ST_Depression, names_to = \"Variable\", values_to = \"Mean for Heart Disease Patients\") \n",
    "\n",
    "mean_table2 <- training_data |>\n",
    "    filter(Heart_Disease_Diagnosis == 0) |>\n",
    "     select(Age, Resting_Blood_Pressure, Cholesterol, Max_Heart_Rate, ST_Depression) |>\n",
    "    colMeans(na.rm = TRUE)\n",
    "\n",
    "mean_table2.matrix = matrix(data = mean_table2, nrow = 1, byrow = TRUE)\n",
    "mean_table2.df = as.data.frame(mean_table2.matrix)\n",
    "colnames(mean_table2.df) = c(\"Age\", \"Resting_Blood_Pressure\", \"Cholesterol\", \"Max_Heart_Rate\", \"ST_Depression\")\n",
    "mean_table2 = mean_table2.df \n",
    "\n",
    "mean_table2 <- mean_table2 |>\n",
    "    pivot_longer(cols = Age:ST_Depression, names_to = \"Variable2\", values_to = \"Mean for Healthy Patients\")\n",
    "\n",
    "mean_table <- bind_cols(mean_table1, mean_table2) |>\n",
    "    select(1, 2, 4) |>\n",
    "    mutate(\"Heart Disease Mean : Healthy Patients Mean\" = `Mean for Heart Disease Patients`/\n",
    "           `Mean for Healthy Patients`)\n",
    "\n",
    "mean_table"
   ]
  },
  {
   "cell_type": "markdown",
   "id": "020716cc-ab75-4012-93e4-59f6e52e5144",
   "metadata": {},
   "source": [
    "**Table 5.** Means of the potential numerical predictor variables for heart disease patients and healthy patients."
   ]
  },
  {
   "cell_type": "markdown",
   "id": "c12a08e1-eca7-436f-8669-33c79bcc8176",
   "metadata": {},
   "source": [
    "#### What the means tell us:"
   ]
  },
  {
   "cell_type": "markdown",
   "id": "ad1a078a-a00f-4b6a-abe7-9a4873fddab1",
   "metadata": {},
   "source": [
    "The means give a measure of the center for each variable as well as a basis for comparison between heart disease and healthy patients, which will be helpful in selecting predictor variables. A big difference between the means of a variable indicates that such variable is likely to drive the classification and therefore should be selected as a predictor variable. The ratios of means (disease:healthy) have also been tabulated so that a comparison of means is more objective, as it's difficult to judge the mean differences when they're in their original units."
   ]
  },
  {
   "cell_type": "markdown",
   "id": "1f68bbb3-1849-47da-8d80-c1a6ee4a144f",
   "metadata": {},
   "source": [
    "#### Mode Table For Discrete Variables"
   ]
  },
  {
   "cell_type": "code",
   "execution_count": null,
   "id": "818501de-1712-4fc8-aa4f-0d371e5c3588",
   "metadata": {},
   "outputs": [],
   "source": [
    "##MODE TABLE FOR DISCRETE VARIABLES##\n",
    "\n",
    "mode_table1 <- training_data |>\n",
    "    filter(Heart_Disease_Diagnosis == 1) |>\n",
    "    select(Sex, Chest_Pain_Type, Fasting_Blood_Sugar, Resting_ECG, Exercise_Induced_Angina, Slope, Number_of_Major_Vessels, Thal) |>\n",
    "    map_df(calc_mode) \n",
    "\n",
    "mode_table1.matrix = matrix(data = mode_table1, nrow = 1, byrow = TRUE)\n",
    "mode_table1.df = as.data.frame(mode_table1.matrix)\n",
    "colnames(mode_table1.df) = c(\"Sex\", \"Chest_Pain_Type\", \"Fasting_Blood_Sugar\", \"Resting_ECG\", \"Exercise_Induced_Angina\", \"Slope\", \"Number_of_Major_Vessels\", \"Thal\")\n",
    "\n",
    "mode_table1 = mode_table1.df \n",
    "\n",
    "mode_table1 <- mode_table1 |>\n",
    "    pivot_longer(cols = Sex:Thal, names_to = \"Variable\", values_to = \"Heart Disease Mode\") \n",
    "\n",
    "mode_table2 <- training_data |>\n",
    "    filter(Heart_Disease_Diagnosis == 0) |>\n",
    "     select(Sex, Chest_Pain_Type, Fasting_Blood_Sugar, Resting_ECG, Exercise_Induced_Angina, Slope, Number_of_Major_Vessels, Thal) |>\n",
    "    map_df(calc_mode)\n",
    "\n",
    "mode_table2.matrix = matrix(data = mode_table2, nrow = 1, byrow = TRUE)\n",
    "mode_table2.df = as.data.frame(mode_table2.matrix)\n",
    "colnames(mode_table2.df) = c(\"Sex\", \"Chest_Pain_Type\", \"Fasting_Blood_Sugar\", \"Resting_ECG\", \"Exercise_Induced_Angina\", \"Slope\", \"Number_of_Major_Vessels\", \"Thal\")\n",
    "mode_table2 = mode_table2.df \n",
    "\n",
    "mode_table2 <- mode_table2 |>\n",
    "    pivot_longer(cols = Sex:Thal, names_to = \"Variable2\", values_to = \"Healthy Patients Mode\")\n",
    "\n",
    "mode_table <- bind_cols(mode_table1, mode_table2) |>\n",
    "    select(1, 2, 4)\n",
    "\n",
    "mode_table"
   ]
  },
  {
   "cell_type": "markdown",
   "id": "1ec2e96a-65a1-49d6-919b-21751961c232",
   "metadata": {},
   "source": [
    "**Table 6.** Modes of the potential discrete predictor variables for heart disease patients and healthy patients."
   ]
  },
  {
   "cell_type": "markdown",
   "id": "45159ea1-1f9b-47ba-98d2-234f388e5484",
   "metadata": {},
   "source": [
    "#### What the mode tell us:\n",
    "\n",
    "Visualizing the mode differences between the healthy and heart disease groups gives us a useful first look as to the variables that may drive classification. A difference in the modes between the healthy and diseased patients tells us that these variables may drive classification. However, taking the mode disregards a lot of useful data. So, we will be using a slightly difference approach for selecting discrete variables (see *Variable Selection*)."
   ]
  },
  {
   "cell_type": "markdown",
   "id": "7d1859e1-f38b-4323-84e5-0db8b0ead34e",
   "metadata": {},
   "source": [
    "#### Training Dataset Label Proportions"
   ]
  },
  {
   "cell_type": "code",
   "execution_count": null,
   "id": "a5bc7443",
   "metadata": {},
   "outputs": [],
   "source": [
    "proportions <- training_data |>\n",
    "               group_by(Heart_Disease_Diagnosis) |>\n",
    "               summarize(count = n())\n",
    "\n",
    "proportions"
   ]
  },
  {
   "cell_type": "markdown",
   "id": "aa01f96c-4318-4fd1-aec9-ca8046f2bf92",
   "metadata": {},
   "source": [
    "**Table 7.** Proportion of healthy and heart diseased patients in the training data set (Diagnosis of 0 means healthy, diagnosis of 1 means prescence of heart disease)"
   ]
  },
  {
   "cell_type": "markdown",
   "id": "1f109d29-da74-4d5d-8cef-7497a5751d73",
   "metadata": {},
   "source": [
    "#### What the proportions tell us:\n",
    "\n",
    "Having a balanced number of classes helps improve the accuracy of the predictor. More specifically, if you don't have a balanced number of predictors, the classifier may be inaccurate in predicting the minority class. In *Table 7*, we can see that our classes are relatively balanced (54/46). "
   ]
  },
  {
   "cell_type": "markdown",
   "id": "2e13eec2",
   "metadata": {},
   "source": [
    "### Variable Selection"
   ]
  },
  {
   "cell_type": "markdown",
   "id": "4bfdc673",
   "metadata": {},
   "source": [
    "#### Numerical Variables"
   ]
  },
  {
   "cell_type": "code",
   "execution_count": null,
   "id": "c5510590",
   "metadata": {
    "tags": []
   },
   "outputs": [],
   "source": [
    "options(repr.plot.width=40, repr.plot.height=8)\n",
    "\n",
    "##Numerical VARIABLES##\n",
    "\n",
    "##AGE##\n",
    "\n",
    "heart_age_table0 <- training_data |>\n",
    "               filter(Heart_Disease_Diagnosis == 0) |>\n",
    "               group_by(Age, Heart_Disease_Diagnosis) |>\n",
    "               summarize(count = n()) \n",
    "\n",
    "heart_age_table1 <- training_data |>\n",
    "               filter(Heart_Disease_Diagnosis == 1)|>\n",
    "               group_by(Age, Heart_Disease_Diagnosis) |>\n",
    "               summarize(count = n()) \n",
    "\n",
    "heart_age_combined <- rbind(heart_age_table0, heart_age_table1)\n",
    "#heart_age_combined\n",
    "\n",
    "heart_age_plot <- ggplot(heart_age_combined, aes(x = Age, group = as.factor(Heart_Disease_Diagnosis), fill = as.factor(Heart_Disease_Diagnosis))) + \n",
    "                 geom_density(adjust = 1.5, alpha = 0.4) +\n",
    "                 labs(x = \"Age\", y = \"Sample Density\", fill = 'Heart Disease Diagnosis') +\n",
    "                 scale_fill_discrete(labels=c('Heart Disease', 'No Heart Disease')) +\n",
    "                # ggtitle(\"Density of People With and \\nWithout Heart Disease Vs Age\") +\n",
    "                 theme(text = element_text(size = 25), legend.position = 'none', axis.text.y = element_blank()) \n",
    "                 \n",
    "##RBP##\n",
    "\n",
    "heart_bp_table0 <- training_data |>\n",
    "               filter(Heart_Disease_Diagnosis == 0) |>\n",
    "               group_by(Resting_Blood_Pressure, Heart_Disease_Diagnosis) |>\n",
    "               summarize(count = n()) \n",
    "\n",
    "heart_bp_table1 <- training_data |>\n",
    "               filter(Heart_Disease_Diagnosis == 1)|>\n",
    "               group_by(Resting_Blood_Pressure, Heart_Disease_Diagnosis) |>\n",
    "               summarize(count = n()) \n",
    "\n",
    "heart_bp_combined <- rbind(heart_bp_table0, heart_bp_table1)\n",
    "#heart_bp_combined\n",
    "\n",
    "heart_bp_plot <- ggplot(heart_bp_combined, aes(x = Resting_Blood_Pressure, group = as.factor(Heart_Disease_Diagnosis), fill = as.factor(Heart_Disease_Diagnosis))) + \n",
    "                 geom_density(adjust = 1.5, alpha = 0.4) +\n",
    "                 labs(x = \"Resting Blood Pressure (mm Hg)\", y = NULL, fill = 'Heart Disease Diagnosis') +\n",
    "                 scale_fill_discrete(labels=c('Heart Disease', 'No Heart Disease')) +\n",
    "                # ggtitle(\"Density of People With and \\nWithout Heart Disease Vs \\nResting Blood Pressure\") +\n",
    "                 theme(text = element_text(size = 25), legend.position = 'none', axis.text.y = element_blank())\n",
    "\n",
    "##CHOLESTEROL##\n",
    "\n",
    "heart_chol_table0 <- training_data |>\n",
    "               filter(Heart_Disease_Diagnosis == 0) |>\n",
    "               group_by(Cholesterol, Heart_Disease_Diagnosis) |>\n",
    "               summarize(count = n()) \n",
    "\n",
    "heart_chol_table1 <- training_data |>\n",
    "               filter(Heart_Disease_Diagnosis == 1)|>\n",
    "               group_by(Cholesterol, Heart_Disease_Diagnosis) |>\n",
    "               summarize(count = n()) \n",
    "\n",
    "heart_chol_combined <- rbind(heart_chol_table0, heart_chol_table1)\n",
    "\n",
    "heart_chol_plot <- ggplot(heart_chol_combined, aes(x = Cholesterol, group = as.factor(Heart_Disease_Diagnosis), fill = as.factor(Heart_Disease_Diagnosis))) + \n",
    "                 geom_density(adjust = 1.5, alpha = 0.4) +\n",
    "                 labs(x = \"Serum Cholesterol (mg/DL)\", y = NULL, fill = 'Heart Disease Diagnosis') +\n",
    "                 scale_fill_discrete(labels=c('Heart Disease', 'No Heart Disease')) +\n",
    "                # ggtitle(\"Density of People With and \\nWithout Heart Disease Vs \\nSerum Cholesterol\") +\n",
    "                 theme(text = element_text(size = 25), legend.position = 'none', axis.text.y = element_blank())\n",
    "\n",
    "##MAX HEART RATE##\n",
    "\n",
    "heart_hr_table0 <- training_data |>\n",
    "               filter(Heart_Disease_Diagnosis == 0) |>\n",
    "               group_by(Max_Heart_Rate, Heart_Disease_Diagnosis) |>\n",
    "               summarize(count = n()) \n",
    "\n",
    "heart_hr_table1 <- training_data |>\n",
    "               filter(Heart_Disease_Diagnosis == 1)|>\n",
    "               group_by(Max_Heart_Rate, Heart_Disease_Diagnosis) |>\n",
    "               summarize(count = n()) \n",
    "\n",
    "heart_hr_combined <- rbind(heart_hr_table0, heart_hr_table1)\n",
    "\n",
    "heart_hr_plot <- ggplot(heart_hr_combined, aes(x = Max_Heart_Rate, group = as.factor(Heart_Disease_Diagnosis), fill = as.factor(Heart_Disease_Diagnosis))) + \n",
    "                 geom_density(adjust = 1.5, alpha = 0.4) +\n",
    "                 labs(x = \"Maximum Heart Rate (beats/min)\", y = NULL, fill = 'Heart Disease Diagnosis') +\n",
    "                 scale_fill_discrete(labels=c('Heart Disease', 'No Heart Disease')) +\n",
    "                 #ggtitle(\"Density of People With and \\nWithout Heart Disease Vs \\nMaximum Heart Rate\") +\n",
    "                 theme(text = element_text(size = 25), legend.position = 'none', axis.text.y = element_blank())\n",
    "\n",
    "##DEPRESSION#\n",
    "\n",
    "heart_st_table0 <- training_data |>\n",
    "               filter(Heart_Disease_Diagnosis == 0) |>\n",
    "               group_by(ST_Depression, Heart_Disease_Diagnosis) |>\n",
    "               summarize(count = n()) \n",
    "\n",
    "heart_st_table1 <- training_data |>\n",
    "               filter(Heart_Disease_Diagnosis == 1)|>\n",
    "               group_by(ST_Depression, Heart_Disease_Diagnosis) |>\n",
    "               summarize(count = n()) \n",
    "\n",
    "heart_st_combined <- rbind(heart_st_table0, heart_st_table1)\n",
    "\n",
    "heart_st_plot <- ggplot(heart_st_combined, aes(x = ST_Depression, group = as.factor(Heart_Disease_Diagnosis), fill = as.factor(Heart_Disease_Diagnosis))) + \n",
    "                 geom_density(adjust = 1.5, alpha = 0.4) +\n",
    "                 labs(x = \"ST Depression Levels (mm)\", y = NULL, fill = 'Heart Disease Diagnosis') +\n",
    "                 scale_fill_discrete(labels=c('Heart Disease', 'No Heart Disease')) +\n",
    "                 #ggtitle(\"Density of People With and \\nWithout Heart Disease Vs \\nMaximum Heart Rate\") +\n",
    "                 theme(text = element_text(size = 25), legend.position = 'none', axis.text.y = element_blank())\n",
    "\n",
    "\n",
    "###\n",
    "title <- ggdraw() +\n",
    "         draw_label('Density Of Various Measurements Split by Heart Disease Diagnosis (Numerical Measurements)',\n",
    "                   fontface = 'bold',\n",
    "                   x = 0.02,\n",
    "                   hjust = 0,\n",
    "                   size = 30) \n",
    "\n",
    "             \n",
    "cont_grid <- plot_grid(heart_age_plot, heart_bp_plot, heart_chol_plot, heart_hr_plot, heart_st_plot, \n",
    "                       ncol = 5, labels = c('A', 'B', 'C', 'D', 'E'), label_size = 20) \n",
    "\n",
    "legend_bottom <- get_legend(heart_age_plot + guides(color = guide_legend(now=1)) +\n",
    "                            theme(legend.position = 'bottom', legend.text = element_text(size = 30), legend.title = element_text(size = 30)))\n",
    "\n",
    "plot_grid(title, cont_grid, legend_bottom, ncol = 1, rel_heights = c(0.1, 1))"
   ]
  },
  {
   "cell_type": "markdown",
   "id": "64d85d39-f1d7-4c4e-9c8c-ad516f8ff0f8",
   "metadata": {},
   "source": [
    "**Figure 1.** Density plots of continuous variables including A) age, B) resting blood pressure, C) serum cholesterol, D) Maximum heart rate, and E) ST depression levels of patients. Heart disease patients are represented by the red density function and healthy patients are represented by the blue density function."
   ]
  },
  {
   "cell_type": "markdown",
   "id": "7b25e082",
   "metadata": {},
   "source": [
    "### Continuous Variable Selection (Density Figure 1 A-E Above)\n",
    "\n",
    "We will be selecting our numerical variables based on the visualizations and table above.  We will be looking at our density plots to see which variables show minimal overlap between the heart disease/healthy conditions, as more overlap indicates that the variable in question does not play a major role in distinguishing healthy patients from heart disease patients. To reinforce our choices for numerical variables through quantification, we will be comparing the ratio of means (disease:healthy). Ratios that notably differ from 1 (we have chosen that the ratios must be larger than 1.10 or less than 0.90) indicate that the variable in question plays a large role in distinguishing diseased patients from healthy patients. Our choices for the continuous variables are below.\n",
    "\n",
    "**Chosen numerical variables:**\n",
    " - Maximum Heart Rate\n",
    " - ST Depression Levels\n",
    " \n",
    "**Omitted numerical variables:**\n",
    " - Age\n",
    " - Resting Blood Pressure\n",
    " - Serum Cholesterol\n",
    "\n",
    "**Reasoning:**\n",
    "\n",
    "The density plots showed relatively low overlap of each of the variables (between the heart disease and no heart disease subsets) for Maximum Heart Rate and ST Depression Levels, but relatively higher overlap for the other numerical variables. These choices are reinforced by the mean table we created, which shows that the disease:healthy was less than 1.10 (for Age, Resting Blood Pressure, and Serum Cholesterol). This high overlap in the density plots and low disease:healthy ratio indicates that these variables do not play a major role in distinguishing diseased patients from healthy patients.\n"
   ]
  },
  {
   "cell_type": "markdown",
   "id": "15f3aeac",
   "metadata": {
    "tags": []
   },
   "source": [
    "### Discrete Variabes"
   ]
  },
  {
   "cell_type": "code",
   "execution_count": null,
   "id": "bc7decc9",
   "metadata": {},
   "outputs": [],
   "source": [
    "##DISCRETE VARIABLES##\n",
    "options(repr.plot.width=28, repr.plot.height=13)\n",
    "\n",
    "sex_plot <- training_data |>\n",
    "   ggplot(aes(x = as.factor(Sex), fill = as_factor(Heart_Disease_Diagnosis))) + \n",
    "   geom_bar(position = \"fill\") + \n",
    "   labs(x = \"Sex\", y = \"Proportion\", fill = \"Heart Disease Diagnosis\") +\n",
    "                 scale_x_discrete(labels = c('Female', 'Male')) +\n",
    "                 theme(text = element_text(size = 20), legend.position = 'none', axis.text.y = element_text(size = 22)) \n",
    "\n",
    "cp_type_plot <- training_data |>\n",
    "   ggplot(aes(x = as.factor(Chest_Pain_Type), fill = as_factor(Heart_Disease_Diagnosis))) + \n",
    "   geom_bar(position = \"fill\") + \n",
    "   labs(x = \"Chest Pain\\nType\", \n",
    "        y = NULL, fill = \"Heart Disease Diagnosis\") +\n",
    "                 scale_x_discrete(labels = c('Typical\\nAngina', 'Atypical\\nAngina', 'Non-Anginal\\nPain', 'Asymptomatic')) +\n",
    "                 theme(axis.title.x = element_text(size = 19), axis.text.x = element_text(size = 15), legend.position = 'none', axis.text.y = element_blank())\n",
    "\n",
    "fbs_plot <- training_data |>\n",
    "   ggplot(aes(x = as.factor(Fasting_Blood_Sugar), fill = as_factor(Heart_Disease_Diagnosis))) + \n",
    "   geom_bar(position = \"fill\") + \n",
    "   labs(x = \"Fasting Blood Sugar\", \n",
    "        y = NULL, fill = \"Heart Disease Diagnosis\") +\n",
    "                 scale_x_discrete(labels = c('> 120 mg/dl', '< 120 mg/dl')) +\n",
    "                 theme(text = element_text(size = 20), legend.position = 'none', axis.text.y = element_blank())\n",
    "\n",
    "restecg_plot <- training_data |>\n",
    "   ggplot(aes(x = as.factor(Resting_ECG), fill = as_factor(Heart_Disease_Diagnosis))) + \n",
    "   geom_bar(position = \"fill\") + \n",
    "   labs(x = \"Resting Electrocardiograph\",\n",
    "        y = NULL, fill = \"Heart Disease Diagnosis\") +\n",
    "                 scale_x_discrete(labels = c('normal', 'ST-T Wave\\nAbnormality', 'Probable Or Definite\\nLeft Ventricular\\nhypertrophy')) +\n",
    "                 theme(axis.text.x = element_text(size = 15), axis.title.x = element_text(size = 23), legend.position = 'none', \n",
    "                       axis.text.y = element_blank())\n",
    "\n",
    "bar_plot9 <- training_data |>\n",
    "   ggplot(aes(x = as_factor(Exercise_Induced_Angina), fill = as_factor(Heart_Disease_Diagnosis))) + \n",
    "   geom_bar(position = 'fill') + \n",
    "   xlab(\"Presence of Exercise Induced Angina\") +\n",
    "   ylab(NULL) +\n",
    "   labs(fill = \"Heart Disease Diagnosis\") +\n",
    "                 scale_x_discrete(labels = c('Absent', 'Present')) +\n",
    "                 theme(text = element_text(size = 22), legend.position = 'none', axis.text.y = element_blank())\n",
    "\n",
    "bar_plot11 <- training_data |>\n",
    "   ggplot(aes(x = as_factor(Slope), fill = as_factor(Heart_Disease_Diagnosis))) + \n",
    "   geom_bar(position = 'fill') + \n",
    "   xlab(\"Slope Of Peak Exercise \\nST Segment\") +\n",
    "   ylab('Proportion') +\n",
    "   labs(fill = \"Heart Disease Diagnosis\") +\n",
    "                 scale_x_discrete(labels = c('Upsloping', 'Flat', 'Downsloping')) +\n",
    "                 theme(axis.title.x = element_text(size = 24.5), axis.title.y = element_text(size = 25.5), axis.text.x = element_text(size = 20),\n",
    "                       legend.position = 'none', axis.text.y = element_text(size = 20))\n",
    "\n",
    "bar_plot12 <- training_data |>\n",
    "   filter(!is.na(Number_of_Major_Vessels)) |>\n",
    "   ggplot(aes(x = as_factor(Number_of_Major_Vessels), fill = as_factor(Heart_Disease_Diagnosis))) + \n",
    "   geom_bar(position = 'fill') + \n",
    "   xlab(\"Number Of Major Vessels\") +\n",
    "   ylab(NULL) +\n",
    "   labs(fill = \"Heart Disease Diagnosis\") +\n",
    "                 theme(text = element_text(size = 20), legend.position = 'none', axis.text.y = element_blank())\n",
    "\n",
    "bar_plot13 <- training_data |>\n",
    "   filter(!is.na(Thal)) |>\n",
    "   ggplot(aes(x = as_factor(Thal), fill = as_factor(Heart_Disease_Diagnosis))) + \n",
    "   geom_bar(position = 'fill') + \n",
    "   xlab(\"Thalassemia\") +\n",
    "   ylab(NULL) +\n",
    "                 scale_x_discrete(labels = c('Normal', 'Fixed Defect', 'Reversible Defect')) +\n",
    "   labs(fill = \"Heart Disease Diagnosis\") +\n",
    "                 theme(text = element_text(size = 20), legend.position = 'none', axis.text.y = element_blank())\n",
    "\n",
    "cont_grid1 <- plot_grid(sex_plot, bar_plot12, fbs_plot, bar_plot13, bar_plot9, NULL, bar_plot11, cp_type_plot, restecg_plot, NULL,\n",
    "                       labels = c('A', 'B', 'C', 'D', 'E', ' ', 'F', 'G', 'H'), label_size = 20,  \n",
    "                       ncol = 5) \n",
    "title1 <- ggdraw() +\n",
    "         draw_label('Density Of Various Measurements Split by Heart Disease Diagnosis (Discrete Measurements)',\n",
    "                   fontface = 'bold',\n",
    "                   x = 0.02,\n",
    "                   hjust = 0,\n",
    "                   size = 25) \n",
    "plot_grid(title1, cont_grid1, legend_bottom, ncol = 1, rel_heights = c(0.1, 1))"
   ]
  },
  {
   "cell_type": "markdown",
   "id": "fbcadeba-5d45-42d4-9eff-dac986421dc5",
   "metadata": {},
   "source": [
    "**Figure 2.** Bar charts of discrete variables including A) sex, B) chest pain type, C) fasting blood sugar, D) resting electrocardiograph, E) presence of exercise induced angina, F) slope of peak exercise ST segment, G) number of major blood vessels and H) thalassemia of patients is shown. Heart disease diagnosis for each variable is displayed as a proportion where red represents the proportion of patients with heart disease and blue represents the proportion of patients with no heart disease."
   ]
  },
  {
   "cell_type": "markdown",
   "id": "ead1f385",
   "metadata": {},
   "source": [
    "### Discrete Variable Selection (Figure 2 A-H Above)\n",
    "\n",
    "We will be selecting our discrete variables based on a different criteria compared to the numerical ones - we will be looking at the proportion of diseased and healthy patients in each level of the discrete variable. If any of the variable’s levels have proportions that notably differ from a 50/50 proportion, then we will use it (e.g. if a variable has 4 levels, and 3 of them are 50/50, but the 4th one is 90/10, then we will use that variable as a predictor variable). The reason for this is because the variable still plays a major role in distinguishing diseased patients from healthy patients. When a particular category of the discrete variable deviates from a 50/50 proportion, this variable will strongly influence classification of whether a patient is healthy or has heart disease. (e.g. continuing on the variable from the previous example, if an observation has the 4th level for that variable, then that variable can help distinguish diseased/healthy patients). Our choices for the discrete variables are below.\n",
    "\n",
    "**Chosen discrete variables:**\n",
    "    \n",
    " - Sex\n",
    " - Chest Pain Type\n",
    " - Resting Electrocardiograph\n",
    " - Presence of Exercise Induced Angina\n",
    " - Slope of Peak Exercise ST Segment\n",
    " - Number of Major Vessels Colored By Fluoroscopy\n",
    " - Thalassemia\n",
    " \n",
    "**Omitted discrete variables:**\n",
    "\n",
    " - Fasting Blood Sugar\n",
    " \n",
    "These choices follow the same logic as mentioned above. Fasting blood sugar was the only discrete variable that had all of its levels close to a 50/50 proportion between diseased and healthy patients. \n"
   ]
  },
  {
   "cell_type": "markdown",
   "id": "73dbe7c6-178d-400e-942e-1f19de393311",
   "metadata": {},
   "source": [
    "### Final Variable Choices For Our Model\n",
    "- Sex\n",
    "- Chest Pain Type\n",
    "- Resting Electrocardiograph\n",
    "- Presence of Exercise Induced Angina\n",
    "- Slope of Peak Exercise ST Segment\n",
    "- Number of Major Vessels Colored By Fluoroscopy\n",
    "- Thalassemia\n",
    "- Maximum Heart Rate\n",
    "- ST Depression Levels\n",
    "\n",
    "**High-level analysis of chosen variables:**\n",
    "\n",
    "- 9/13 of the original factors were selected to be used in the KNN algorithm\n",
    "- 2/9 of the chosen variables are numerical\n",
    "- 7/9 of the chosen variables are discrete"
   ]
  },
  {
   "cell_type": "markdown",
   "id": "d3a53b58",
   "metadata": {},
   "source": [
    "### KNN Classifier Build "
   ]
  },
  {
   "cell_type": "markdown",
   "id": "3eac33c9",
   "metadata": {},
   "source": [
    "#### 5-fold Cross-Validation"
   ]
  },
  {
   "cell_type": "code",
   "execution_count": null,
   "id": "d2c14526",
   "metadata": {},
   "outputs": [],
   "source": [
    "vFold <- vfold_cv(training_data, v = 5, strata = Heart_Disease_Diagnosis)\n",
    "\n",
    "spec <- nearest_neighbor(weight_func = \"rectangular\", neighbors = tune()) |>\n",
    "     set_engine(\"kknn\") |>\n",
    "      set_mode(\"classification\")\n",
    "\n",
    "myRecipe <- recipe(Heart_Disease_Diagnosis ~ Max_Heart_Rate + ST_Depression + Sex + Chest_Pain_Type + Resting_ECG + Exercise_Induced_Angina + Slope + Number_of_Major_Vessels + Thal, data = training_data) |>\n",
    "   step_scale(all_predictors()) |>\n",
    "   step_center(all_predictors())\n",
    "\n",
    "kValues  <- tibble(neighbors = seq(from = 1, to = 150, by = 5))\n",
    "                   \n",
    "results <- workflow() |>\n",
    "    add_recipe(myRecipe) |>\n",
    "      add_model(spec) |>\n",
    "      tune_grid(resamples = vFold, grid = kValues) |>\n",
    "      collect_metrics() |>\n",
    "     filter(.metric == \"accuracy\")\n",
    "head(results, 6)"
   ]
  },
  {
   "cell_type": "markdown",
   "id": "56b84893-4de5-45ed-a96e-614f0b38cea4",
   "metadata": {},
   "source": [
    "**Table 8.** First 6 rows of results dataframe, which shows a variety of descriptive metrics for each K value (each row)."
   ]
  },
  {
   "cell_type": "code",
   "execution_count": null,
   "id": "2c71808e-1f70-414e-9d56-ee74e1d0202c",
   "metadata": {},
   "outputs": [],
   "source": [
    "tail(results, 6) "
   ]
  },
  {
   "cell_type": "markdown",
   "id": "59dc6c28-635e-40ba-b16d-dc78acdd2132",
   "metadata": {},
   "source": [
    "**Table 9.** Last 6 rows of results dataframe, which shows a variety of descriptive metrics for each K value (each row)."
   ]
  },
  {
   "cell_type": "code",
   "execution_count": null,
   "id": "e9484d94",
   "metadata": {},
   "outputs": [],
   "source": [
    "highest_accuracy <- results |>\n",
    "    arrange(desc(mean)) |>\n",
    "    slice(1) |>\n",
    "    pull(neighbors, mean)\n",
    "\n",
    "cross_val_plot <- ggplot(results, aes(x = neighbors, y = 100 * mean)) +\n",
    "                          geom_point(size = 3) +\n",
    "                          geom_line(size = 1) +\n",
    "                          labs(x = \"Neighbours\", y = \"Mean Accuracy (percentage)\") +\n",
    "                          theme(text = element_text(size = 20)) +\n",
    "                          scale_x_continuous(breaks = seq(1, 150, by = 5)) +\n",
    "                          geom_vline(xintercept = highest_accuracy, linetype = \"dashed\", size = 1) +\n",
    "                          ggtitle('Estimated Cross-Validation Accuracy Plotted Against Number \\nof Nearest Neighbors (K) for a 5-fold Cross-validation')\n",
    "cross_val_plot"
   ]
  },
  {
   "cell_type": "markdown",
   "id": "97a467fc-1e2c-4dc6-9ced-3939963ce065",
   "metadata": {},
   "source": [
    "**Figure 3.** Cross-validation plot which shows the mean accuracy of 9 predictors (see Variable Selection for the specific predictors) versus the number of neighbours. Dashed line displays the best number of neighbours (based on highest accuracy)."
   ]
  },
  {
   "cell_type": "markdown",
   "id": "9d0d6cbb-d82d-4ebf-bd63-d544cf72df91",
   "metadata": {},
   "source": [
    "### Cross Validation Results\n",
    "\n",
    "Through our 5-fold cross-validation, we found that the number of neighbors that yields the highest mean accuracy across our validation sets is 56. The mean accuracy for this K was 85.90%. Not only does K = 56 yield the highest accuracy, but an increase or decrease in K does not significantly alter the accuracy (adding/subtracting 5 neighbors changed the accuracy by ~1%). This is an important point to consider, as it shows that our choice is reliable and not simply a high accuracy due to noise. This K value is also ideal when considering computational power, as it is not too large.\n",
    "\n",
    "Now that we have selected our K value, we will train our model on our training dataset using K = 56."
   ]
  },
  {
   "cell_type": "markdown",
   "id": "0fb87eff-f210-41d0-9615-3807a8e46507",
   "metadata": {},
   "source": [
    "### Testing The Model"
   ]
  },
  {
   "cell_type": "code",
   "execution_count": null,
   "id": "a1c5a80b",
   "metadata": {},
   "outputs": [],
   "source": [
    "final_spec <- nearest_neighbor(weight_func = \"rectangular\", neighbors = highest_accuracy) |>\n",
    "      set_engine(\"kknn\") |>\n",
    "      set_mode(\"classification\")\n",
    "\n",
    "final_fit <- workflow() |>\n",
    "      add_recipe(myRecipe) |>\n",
    "      add_model(final_spec) |>\n",
    "      fit(data = training_data)\n",
    "\n",
    "final_predictions <- predict(final_fit , testing_data) |>\n",
    "    bind_cols(testing_data)\n",
    "final_metrics <- final_predictions |>\n",
    "    metrics(truth = Heart_Disease_Diagnosis, estimate = .pred_class) |>\n",
    "    filter(.metric == \"accuracy\")\n",
    "final_metrics"
   ]
  },
  {
   "cell_type": "markdown",
   "id": "b0c71b8b-80e5-4809-9c57-a0f38c34f226",
   "metadata": {},
   "source": [
    "**Table 10.** Metrics table that displays the classifier's accuracy on testing data, as shown by the proportion under the '.estimate' column."
   ]
  },
  {
   "cell_type": "markdown",
   "id": "ffc9fbde-0e1b-4953-93c2-4798efd3171b",
   "metadata": {
    "jp-MarkdownHeadingCollapsed": true,
    "tags": []
   },
   "source": [
    "#### Interpretation of Table 10\n",
    "\n",
    "The metrics table displays the accuracy of our KNN model on the testing data. As seen under the .estimate column, **the model's overall accuracy is 85.55%**, which means that classifier correctly predicted if a patient had heart disease or not 85.55% of the time."
   ]
  },
  {
   "cell_type": "markdown",
   "id": "d81f0670-6a1f-4fc4-b703-97d2d0681b0b",
   "metadata": {},
   "source": [
    "### Confusion Matrix"
   ]
  },
  {
   "cell_type": "code",
   "execution_count": null,
   "id": "37bf588e",
   "metadata": {},
   "outputs": [],
   "source": [
    "heart_confusion <- final_predictions |>\n",
    "                    conf_mat(truth = Heart_Disease_Diagnosis, estimate = .pred_class) \n",
    "\n",
    "groups <- c('True Negative', 'False Negative', 'False Positive', 'True Positive')\n",
    "\n",
    "heart_confusion_df <- as.data.frame(heart_confusion$table) |>\n",
    "                   cbind(groups)\n",
    "\n",
    "heart_confusion"
   ]
  },
  {
   "cell_type": "markdown",
   "id": "b30da5d4-7c2a-475e-a3ec-4c0a4ad690a4",
   "metadata": {},
   "source": [
    "**Table 11.** Confusion matrix showing the correct and incorrect predictions between each predicted class (healthy vs heart diseased patients)."
   ]
  },
  {
   "cell_type": "code",
   "execution_count": null,
   "id": "f1fe5ef4",
   "metadata": {},
   "outputs": [],
   "source": [
    "options(repr.plot.width=15, repr.plot.height=10)\n",
    "\n",
    "conf_plot <- ggplot(heart_confusion_df, aes(x = as.factor(Truth), y = Freq, fill = groups)) +\n",
    "             geom_bar(stat = 'identity', position = 'dodge') +\n",
    "             labs(x = 'Patient Condition', y = 'Frequency', fill = 'Legend') +\n",
    "             scale_x_discrete(labels = c('Healthy', 'Heart Disease')) +\n",
    "             ggtitle('Frequency of Correct and Incorrect Predictions When \\nSubsetted by Patient Condition (Plotted Confusion Matrix)') +\n",
    "             scale_y_continuous(limits=c(0, 40)) +\n",
    "             theme(text = element_text(size = 25)) +\n",
    "             scale_fill_brewer(palette = \"Set2\", breaks = c('False Negative', 'True Negative', 'False Positive', 'True Positive'))\n",
    "\n",
    "conf_plot"
   ]
  },
  {
   "cell_type": "markdown",
   "id": "64abae23-2ee0-49ce-923b-23d3e85e1599",
   "metadata": {},
   "source": [
    "**Figure 4.** Dodged bar graph representation of the confusion matrix (table 11). The plot shows the model's frequency of disease predictions for both heart diseased and healthy (no heart disease) patients. The total number of healthy patients is 41 (corresponding to the two dodged bars on the left. The total number of diseased patients is 35 (corresponding the the two dodged bars on the right)."
   ]
  },
  {
   "cell_type": "markdown",
   "id": "7b5ddb26-d662-4eef-8065-3d45ef9725f0",
   "metadata": {},
   "source": [
    "#### Interpretation of the confusion matrix (*Figure 3* and *Table 11*)\n",
    "\n",
    "**What is seen:**\n",
    "\n",
    "- The overall accuracy of the predictions on healthy patients is 95.12% (39/41)\n",
    "- The overall accuracy of the predictions on diseased patients is 74.28% (26/35)\n",
    "- We have more false positives compared to false negatives\n",
    "\n",
    "**What this means:**\n",
    "\n",
    "- Our model was better at predicting the condition of healthy patients compared to diseased patients.\n",
    "\n",
    "**Why this might have happened:**\n",
    "\n",
    "- In KNN classification, an imbalance in prediction accuracy among two different classes can be due to an imbalance in the proportion of the two classes in the training set. However, the classes (diseased patients vs no disease patients) were relatively balanced in our training set, with a 54/46 split between both classes (*Table 7*). So class imbalance in the training set is unlikely the reason for this imbalance in prediction accuracy.\n",
    "- One theory as to why there are far more false positives than false negatives might be because the original cleveland dataset had the column for heart disease diagnosis broken up into categories 0 (no heart disease present) and 1,2,3,4 (heart disease present). In our pre-processing steps, we merged any row that signified heart disease diagnosis (1, 2, 3 or 4) into one group to indicate presence of heart disease. This can be a possible reason as to why the classifier is able to predict 0’s (no presence of heart disease) more accurately than 1’s (presence of heart disease).\n",
    "\n",
    "**Why this matters:**\n",
    "\n",
    "- When building a classifier to predict medical conditions, the cost of make a false negative is high. This is basically equivalent to a doctor telling a patient that they are healthy when they actually have heart disease. It is important to note that the accuracy for heart diseased patients was lower than the overall accuracy, as it gives us the ability to critically analyze the suitability of our classifier in real-world scenarios."
   ]
  },
  {
   "cell_type": "markdown",
   "id": "a9fa3fe0-d8b6-453f-8c53-5834259fe164",
   "metadata": {
    "tags": []
   },
   "source": [
    "# Discussion\n",
    "\n",
    "### **Summary of what we found:**\n",
    "\n",
    "Initially, we asked: ‘given these 13 factors, does the patient have heart disease?’ Through the classifier we made, we used 9 out of the 13 factors (see *Variable Selection*) to predict whether a patient has heart disease with a 85.53% accuracy on our testing set (see *Testing The Model*). While this accuracy initially seems strong, we decided to look at the confusion matrix. Our confusion matrix shows that the model predicted the condition of healthy patients with 95.12% accuracy, while it predicted the condition of heart diseased patients with a 74.28% accuracy (*Table 11*, *Figure 4*). This demonstrates that the model made far more false positives than false negatives (see *Interpretation of Confusion Matrix* for an interpretation of this effect).\n",
    "\n",
    "### **Is this what we expected to find?**\n",
    "\n",
    "We were expecting to find that the 13 variables that were a part of the cleveland dataset would be able to accurately classify patients as heart diseased or healthy. In order to limit unnecessary computational power and to maximize the performance of the classifier, our exploratory analysis indicated that only 9 of these variables may be useful to our classifier. This was unexpected to us, as these 4 omitted variables seemed like relevant predictors for heart disease. For example, we initially expected that the older you are, the more likely you would be to have heart disease. However, our graphical and tabular analysis (*Table 5*, *Figure 1*) did not support this hypothesis as there was no clear association between age and the diagnosis of patients. We also had some expected results. For example, we can see that males are more likely to get heart disease (*Figure 2*), which is supported by previous research. With our chosen 9 variables, our model did in fact show that it was able to extract some useful information as the overall accuracy was higher than the accuracy that a majority classifier would get (this would be ~54% - the percent prevalence of our majority class).\n",
    "\n",
    "### **What are the impacts of these findings?**\n",
    "\n",
    "Whether or not having more false positives than false negatives is good or bad is not a question with a black or white answer - it usually depends on the context. For this dataset, we believe that it is better to have fewer false negatives, which means that we want to focus on limiting the number of times the classifier diagnoses a heart diseased patient as healthy. This will ensure that the doctors can act quickly to treat it, potentially saving the patient's life. At the same time, a higher degree of false positives means that needless stress and resources will be spent treating a patients that does not actually have any heart condition. However, we believe that this is a necessary sacrifice, as wasting some resources to ensure all patients are safe is better than missing diagnoses that can lead to fatalities. Although the classifier tends to have more false negatives, it could still be useful to help reduce the strain on the healthcare system if resouces are scarce. Ultimately, this can severely help places that are suffering from a doctor shortage such as right here in BC since it can reduce the workload on doctors, and provide them with another tool so that they can make more informed decision/diagnoses.\n",
    "\n",
    "### **What future questions could this lead to?**\n",
    "\n",
    "How could a future classifier be improved? Evidently, it would be best if the overall accuracy was higher. This could be achieved by having a larger dataset as the one we used is relatively small (only 303 rows) and relatively old (donated to the archive ML site in 1988 so it may not even be as applicable to the current population). Or perhaps, running a smarter predictor variable selection (a more complicated method we have not learned) on all 75 attributes that were a part of the original dataset could improve the overall accuracy. However, it is also understandable why the classifier does not have an extremely high degree of accuracy. If we examine the plots for our variables that were used to choose predictors, we can see for some continuous variable density plots there is still a significant degree of overlap between heart disease and no heart disease, which makes distinguishing between the two conditions difficult, but that does not mean that we should stop trying. A summary of some future questions:\n",
    "\n",
    "- How would the classifier's accuracy change if we used data from the current population (2023) using the same metrics (variables)?\n",
    "- How would the classifier's accuracy change if we used a more complex method of predictor variable selection?\n",
    "- Would the number of false negatives be reduced if we didn't initially group the heart disease diagnosis variable (1,2,3,4 -> 1)?\n",
    "- What role does this classifier have in the healthcare system? If we work on the limitations of our classifier, will it be able to predict heart diseased patients better than a physician?\n",
    "\n",
    "## References\n",
    "- \"Types of heart diseases.\" Heart and Stroke Foundation of Canada, 2023, https://www.heartandstroke.ca/heart-disease/what-is-heart-disease/types-of-heart-disease\n",
    "- \"Throughout life, heart attacks are twice as common in men than women.\" Harvard Health, 8 Nov. 2016, https://www.health.harvard.edu/heart-health/throughout-life-heart-attacks-are-twice-as-common-in-men-than-women\n",
    "- \"How to Replace NA’s with the Mode (Most Frequent Value) in R.\" Coding Prof, 11 Aug. 2021, https://www.codingprof.com/how-to-replace-nas-with-the-mode-most-frequent-value-in-r/\n",
    "- Janosi, Steinbrunn, Pfisterer, Dua, Graff, and Robert Detrano. \"Heart Disease Data Set.\" UCI Machine Learning Repository, 2019, https://archive.ics.uci.edu/ml/datasets/Heart+Disease\n",
    "- Skrypnek, Jane. \"Amid a chronic shortage, B.C. at risk of losing hundreds of internationally-trained doctors.\" Vancouver Island Free Daily, 14 Dec. 2022, https://www.vancouverislandfreedaily.com/news/amid-a-chronic-shortage-b-c-at-risk-of-losing-hundreds-of-internationally-trained-doctors/ "
   ]
  }
 ],
 "metadata": {
  "kernelspec": {
   "display_name": "R",
   "language": "R",
   "name": "ir"
  },
  "language_info": {
   "codemirror_mode": "r",
   "file_extension": ".r",
   "mimetype": "text/x-r-source",
   "name": "R",
   "pygments_lexer": "r",
   "version": "4.1.1"
  }
 },
 "nbformat": 4,
 "nbformat_minor": 5
}
